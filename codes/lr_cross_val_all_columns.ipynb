{
 "cells": [
  {
   "attachments": {},
   "cell_type": "markdown",
   "metadata": {},
   "source": [
    "## Calories Prediction"
   ]
  },
  {
   "attachments": {},
   "cell_type": "markdown",
   "metadata": {},
   "source": [
    "### 차별화\n",
    "##### LinearRegressor 모델에 교차검증을 사용하여 베스트 모델로 예측 결과 확인\n",
    "##### PolynomialFeatures 에서 degree = 3, interaction_only=True를 사용하여 교호작용에 해당하는 다항만 생성"
   ]
  },
  {
   "cell_type": "code",
   "execution_count": 1,
   "metadata": {},
   "outputs": [],
   "source": [
    "import pandas as pd\n",
    "from sklearn.preprocessing import PolynomialFeatures\n",
    "from sklearn.model_selection import train_test_split\n",
    "from sklearn.preprocessing import StandardScaler\n",
    "from sklearn.metrics import mean_squared_error\n",
    "from sklearn.preprocessing import LabelEncoder\n",
    "import numpy as np\n",
    "import matplotlib.pyplot as plt\n",
    "import seaborn as sns"
   ]
  },
  {
   "cell_type": "code",
   "execution_count": 2,
   "metadata": {},
   "outputs": [],
   "source": [
    "train_path = 'C:/Users/Ted/Desktop/research/projects/calorie_prediction/dataset/train.csv'\n",
    "test_path = 'C:/Users/Ted/Desktop/research/projects/calorie_prediction/dataset/test.csv'"
   ]
  },
  {
   "cell_type": "code",
   "execution_count": 83,
   "metadata": {},
   "outputs": [],
   "source": [
    "train = pd.read_csv(train_path)\n",
    "test = pd.read_csv(test_path)"
   ]
  },
  {
   "cell_type": "code",
   "execution_count": 84,
   "metadata": {},
   "outputs": [
    {
     "data": {
      "text/plain": [
       "((7500, 11), (7500, 10))"
      ]
     },
     "execution_count": 84,
     "metadata": {},
     "output_type": "execute_result"
    }
   ],
   "source": [
    "train.shape, test.shape"
   ]
  },
  {
   "attachments": {},
   "cell_type": "markdown",
   "metadata": {},
   "source": [
    "## EDA"
   ]
  },
  {
   "attachments": {},
   "cell_type": "markdown",
   "metadata": {},
   "source": [
    "##### 학습 데이터 중복 확인"
   ]
  },
  {
   "cell_type": "code",
   "execution_count": 85,
   "metadata": {},
   "outputs": [
    {
     "data": {
      "text/plain": [
       "0"
      ]
     },
     "execution_count": 85,
     "metadata": {},
     "output_type": "execute_result"
    }
   ],
   "source": [
    "train.duplicated().sum()"
   ]
  },
  {
   "attachments": {},
   "cell_type": "markdown",
   "metadata": {},
   "source": [
    "###### 데이터 중복값 없음"
   ]
  },
  {
   "attachments": {},
   "cell_type": "markdown",
   "metadata": {},
   "source": [
    "##### 데이터 결측치 및 타입 확인"
   ]
  },
  {
   "cell_type": "code",
   "execution_count": 86,
   "metadata": {},
   "outputs": [
    {
     "name": "stdout",
     "output_type": "stream",
     "text": [
      "<class 'pandas.core.frame.DataFrame'>\n",
      "RangeIndex: 7500 entries, 0 to 7499\n",
      "Data columns (total 11 columns):\n",
      " #   Column                    Non-Null Count  Dtype  \n",
      "---  ------                    --------------  -----  \n",
      " 0   ID                        7500 non-null   object \n",
      " 1   Exercise_Duration         7500 non-null   float64\n",
      " 2   Body_Temperature(F)       7500 non-null   float64\n",
      " 3   BPM                       7500 non-null   float64\n",
      " 4   Height(Feet)              7500 non-null   float64\n",
      " 5   Height(Remainder_Inches)  7500 non-null   float64\n",
      " 6   Weight(lb)                7500 non-null   float64\n",
      " 7   Weight_Status             7500 non-null   object \n",
      " 8   Gender                    7500 non-null   object \n",
      " 9   Age                       7500 non-null   int64  \n",
      " 10  Calories_Burned           7500 non-null   float64\n",
      "dtypes: float64(7), int64(1), object(3)\n",
      "memory usage: 644.7+ KB\n"
     ]
    }
   ],
   "source": [
    "train.info()"
   ]
  },
  {
   "cell_type": "code",
   "execution_count": 87,
   "metadata": {},
   "outputs": [
    {
     "name": "stdout",
     "output_type": "stream",
     "text": [
      "<class 'pandas.core.frame.DataFrame'>\n",
      "RangeIndex: 7500 entries, 0 to 7499\n",
      "Data columns (total 10 columns):\n",
      " #   Column                    Non-Null Count  Dtype  \n",
      "---  ------                    --------------  -----  \n",
      " 0   ID                        7500 non-null   object \n",
      " 1   Exercise_Duration         7500 non-null   float64\n",
      " 2   Body_Temperature(F)       7500 non-null   float64\n",
      " 3   BPM                       7500 non-null   float64\n",
      " 4   Height(Feet)              7500 non-null   float64\n",
      " 5   Height(Remainder_Inches)  7500 non-null   float64\n",
      " 6   Weight(lb)                7500 non-null   float64\n",
      " 7   Weight_Status             7500 non-null   object \n",
      " 8   Gender                    7500 non-null   object \n",
      " 9   Age                       7500 non-null   int64  \n",
      "dtypes: float64(6), int64(1), object(3)\n",
      "memory usage: 586.1+ KB\n"
     ]
    }
   ],
   "source": [
    "test.info()"
   ]
  },
  {
   "attachments": {},
   "cell_type": "markdown",
   "metadata": {},
   "source": [
    "###### 데이터 결측치 없음"
   ]
  },
  {
   "attachments": {},
   "cell_type": "markdown",
   "metadata": {},
   "source": [
    "##### 특성공학\n",
    "###### Height(Feet) 와 Height(Remainder_Incses) 를 이용하여 Height(cm) 컬럼 생성\n",
    "###### ℉ 화씨 온도를 ℃ 섭씨 온도로 변환한 Body_Temperature(C) 컬럼 생성\n",
    "###### lb(파운드) 를 kg 으로 변환한 Weight(kg) 컬럼 생성\n",
    "###### 학습과 분석에 불필요한 컬럼들 삭제"
   ]
  },
  {
   "cell_type": "code",
   "execution_count": 88,
   "metadata": {},
   "outputs": [],
   "source": [
    "def feature_engineering(df):\n",
    "    df['Height(cm)']=df['Height(Feet)']*30.48 + df['Height(Remainder_Inches)']*2.54\n",
    "\n",
    "    df['Body_Temperature(C)']=(df['Body_Temperature(F)']-32)*5/9\n",
    "\n",
    "    df['Weight(kg)']=(df['Weight(lb)']*0.45359237)\n",
    "\n",
    "    df.drop(['ID','Body_Temperature(F)', 'Height(Feet)', 'Height(Remainder_Inches)', 'Weight(lb)'], axis=1, inplace=True)"
   ]
  },
  {
   "attachments": {},
   "cell_type": "markdown",
   "metadata": {},
   "source": [
    "##### feature_engineering(df) 함수 실행"
   ]
  },
  {
   "cell_type": "code",
   "execution_count": 89,
   "metadata": {},
   "outputs": [],
   "source": [
    "feature_engineering(train)\n",
    "feature_engineering(test)"
   ]
  },
  {
   "attachments": {},
   "cell_type": "markdown",
   "metadata": {},
   "source": [
    "###### 데이터 확인"
   ]
  },
  {
   "cell_type": "code",
   "execution_count": 90,
   "metadata": {},
   "outputs": [
    {
     "data": {
      "text/html": [
       "<div>\n",
       "<style scoped>\n",
       "    .dataframe tbody tr th:only-of-type {\n",
       "        vertical-align: middle;\n",
       "    }\n",
       "\n",
       "    .dataframe tbody tr th {\n",
       "        vertical-align: top;\n",
       "    }\n",
       "\n",
       "    .dataframe thead th {\n",
       "        text-align: right;\n",
       "    }\n",
       "</style>\n",
       "<table border=\"1\" class=\"dataframe\">\n",
       "  <thead>\n",
       "    <tr style=\"text-align: right;\">\n",
       "      <th></th>\n",
       "      <th>Exercise_Duration</th>\n",
       "      <th>BPM</th>\n",
       "      <th>Weight_Status</th>\n",
       "      <th>Gender</th>\n",
       "      <th>Age</th>\n",
       "      <th>Calories_Burned</th>\n",
       "      <th>Height(cm)</th>\n",
       "      <th>Body_Temperature(C)</th>\n",
       "      <th>Weight(kg)</th>\n",
       "    </tr>\n",
       "  </thead>\n",
       "  <tbody>\n",
       "    <tr>\n",
       "      <th>0</th>\n",
       "      <td>26.0</td>\n",
       "      <td>107.0</td>\n",
       "      <td>Normal Weight</td>\n",
       "      <td>F</td>\n",
       "      <td>45</td>\n",
       "      <td>166.0</td>\n",
       "      <td>175.26</td>\n",
       "      <td>40.888889</td>\n",
       "      <td>69.989303</td>\n",
       "    </tr>\n",
       "    <tr>\n",
       "      <th>1</th>\n",
       "      <td>7.0</td>\n",
       "      <td>88.0</td>\n",
       "      <td>Overweight</td>\n",
       "      <td>M</td>\n",
       "      <td>50</td>\n",
       "      <td>33.0</td>\n",
       "      <td>198.12</td>\n",
       "      <td>39.611111</td>\n",
       "      <td>102.012924</td>\n",
       "    </tr>\n",
       "    <tr>\n",
       "      <th>2</th>\n",
       "      <td>7.0</td>\n",
       "      <td>86.0</td>\n",
       "      <td>Overweight</td>\n",
       "      <td>M</td>\n",
       "      <td>29</td>\n",
       "      <td>23.0</td>\n",
       "      <td>190.50</td>\n",
       "      <td>39.611111</td>\n",
       "      <td>99.019214</td>\n",
       "    </tr>\n",
       "    <tr>\n",
       "      <th>3</th>\n",
       "      <td>17.0</td>\n",
       "      <td>99.0</td>\n",
       "      <td>Normal Weight</td>\n",
       "      <td>F</td>\n",
       "      <td>33</td>\n",
       "      <td>91.0</td>\n",
       "      <td>167.64</td>\n",
       "      <td>40.000000</td>\n",
       "      <td>66.995593</td>\n",
       "    </tr>\n",
       "    <tr>\n",
       "      <th>4</th>\n",
       "      <td>9.0</td>\n",
       "      <td>88.0</td>\n",
       "      <td>Normal Weight</td>\n",
       "      <td>M</td>\n",
       "      <td>38</td>\n",
       "      <td>32.0</td>\n",
       "      <td>177.80</td>\n",
       "      <td>39.277778</td>\n",
       "      <td>77.019984</td>\n",
       "    </tr>\n",
       "    <tr>\n",
       "      <th>...</th>\n",
       "      <td>...</td>\n",
       "      <td>...</td>\n",
       "      <td>...</td>\n",
       "      <td>...</td>\n",
       "      <td>...</td>\n",
       "      <td>...</td>\n",
       "      <td>...</td>\n",
       "      <td>...</td>\n",
       "      <td>...</td>\n",
       "    </tr>\n",
       "    <tr>\n",
       "      <th>7495</th>\n",
       "      <td>22.0</td>\n",
       "      <td>104.0</td>\n",
       "      <td>Normal Weight</td>\n",
       "      <td>F</td>\n",
       "      <td>75</td>\n",
       "      <td>151.0</td>\n",
       "      <td>147.32</td>\n",
       "      <td>40.611111</td>\n",
       "      <td>50.983782</td>\n",
       "    </tr>\n",
       "    <tr>\n",
       "      <th>7496</th>\n",
       "      <td>20.0</td>\n",
       "      <td>104.0</td>\n",
       "      <td>Normal Weight</td>\n",
       "      <td>F</td>\n",
       "      <td>21</td>\n",
       "      <td>114.0</td>\n",
       "      <td>172.72</td>\n",
       "      <td>40.722222</td>\n",
       "      <td>66.995593</td>\n",
       "    </tr>\n",
       "    <tr>\n",
       "      <th>7497</th>\n",
       "      <td>8.0</td>\n",
       "      <td>90.0</td>\n",
       "      <td>Overweight</td>\n",
       "      <td>M</td>\n",
       "      <td>57</td>\n",
       "      <td>41.0</td>\n",
       "      <td>187.96</td>\n",
       "      <td>39.500000</td>\n",
       "      <td>91.988533</td>\n",
       "    </tr>\n",
       "    <tr>\n",
       "      <th>7498</th>\n",
       "      <td>12.0</td>\n",
       "      <td>97.0</td>\n",
       "      <td>Overweight</td>\n",
       "      <td>M</td>\n",
       "      <td>35</td>\n",
       "      <td>57.0</td>\n",
       "      <td>175.26</td>\n",
       "      <td>40.222222</td>\n",
       "      <td>76.022081</td>\n",
       "    </tr>\n",
       "    <tr>\n",
       "      <th>7499</th>\n",
       "      <td>16.0</td>\n",
       "      <td>91.0</td>\n",
       "      <td>Overweight</td>\n",
       "      <td>M</td>\n",
       "      <td>26</td>\n",
       "      <td>59.0</td>\n",
       "      <td>182.88</td>\n",
       "      <td>40.500000</td>\n",
       "      <td>86.001113</td>\n",
       "    </tr>\n",
       "  </tbody>\n",
       "</table>\n",
       "<p>7500 rows × 9 columns</p>\n",
       "</div>"
      ],
      "text/plain": [
       "      Exercise_Duration    BPM  Weight_Status Gender  Age  Calories_Burned   \n",
       "0                  26.0  107.0  Normal Weight      F   45            166.0  \\\n",
       "1                   7.0   88.0     Overweight      M   50             33.0   \n",
       "2                   7.0   86.0     Overweight      M   29             23.0   \n",
       "3                  17.0   99.0  Normal Weight      F   33             91.0   \n",
       "4                   9.0   88.0  Normal Weight      M   38             32.0   \n",
       "...                 ...    ...            ...    ...  ...              ...   \n",
       "7495               22.0  104.0  Normal Weight      F   75            151.0   \n",
       "7496               20.0  104.0  Normal Weight      F   21            114.0   \n",
       "7497                8.0   90.0     Overweight      M   57             41.0   \n",
       "7498               12.0   97.0     Overweight      M   35             57.0   \n",
       "7499               16.0   91.0     Overweight      M   26             59.0   \n",
       "\n",
       "      Height(cm)  Body_Temperature(C)  Weight(kg)  \n",
       "0         175.26            40.888889   69.989303  \n",
       "1         198.12            39.611111  102.012924  \n",
       "2         190.50            39.611111   99.019214  \n",
       "3         167.64            40.000000   66.995593  \n",
       "4         177.80            39.277778   77.019984  \n",
       "...          ...                  ...         ...  \n",
       "7495      147.32            40.611111   50.983782  \n",
       "7496      172.72            40.722222   66.995593  \n",
       "7497      187.96            39.500000   91.988533  \n",
       "7498      175.26            40.222222   76.022081  \n",
       "7499      182.88            40.500000   86.001113  \n",
       "\n",
       "[7500 rows x 9 columns]"
      ]
     },
     "execution_count": 90,
     "metadata": {},
     "output_type": "execute_result"
    }
   ],
   "source": [
    "train"
   ]
  },
  {
   "attachments": {},
   "cell_type": "markdown",
   "metadata": {},
   "source": [
    "### 데이터 전처리\n",
    "###### 카테고리컬 데이터 인코딩\n",
    "###### PolynomialFeatures 를 사용하여 다항식 특성 추가\n",
    "###### StandardScaler 를 사용하여 수치형 데이터의 스케일을 통일"
   ]
  },
  {
   "cell_type": "code",
   "execution_count": 91,
   "metadata": {},
   "outputs": [],
   "source": [
    "# 'Weight_Status', 'Gender'컬럼 인코딩\n",
    "from sklearn.preprocessing import LabelEncoder"
   ]
  },
  {
   "attachments": {},
   "cell_type": "markdown",
   "metadata": {},
   "source": [
    "###### categorical features 선언"
   ]
  },
  {
   "cell_type": "code",
   "execution_count": 92,
   "metadata": {},
   "outputs": [],
   "source": [
    "categorical_features = ['Weight_Status', 'Gender']\n",
    "numerical_features = ['Exercise_Duration', 'BPM', 'Age', 'Height(cm)', 'Body_Temperature(C)','Weight(kg)']"
   ]
  },
  {
   "attachments": {},
   "cell_type": "markdown",
   "metadata": {},
   "source": [
    "###### Labelencoder"
   ]
  },
  {
   "cell_type": "code",
   "execution_count": 93,
   "metadata": {},
   "outputs": [],
   "source": [
    "def preprocessing(train, test):\n",
    "    for feature in categorical_features:\n",
    "        le = LabelEncoder()\n",
    "        le = le.fit(train[feature])\n",
    "        train[feature] = le.transform(train[feature])\n",
    "        for label in np.unique(test[feature]):\n",
    "            if label not in le.classes_:\n",
    "                le.classes_ = np.append(le.classes_, label)\n",
    "        test[feature] = le.transform(test[feature])"
   ]
  },
  {
   "cell_type": "code",
   "execution_count": 94,
   "metadata": {},
   "outputs": [],
   "source": [
    "preprocessing(train, test)"
   ]
  },
  {
   "cell_type": "code",
   "execution_count": 95,
   "metadata": {},
   "outputs": [],
   "source": [
    "# 타겟 데이터\n",
    "train_target = train['Calories_Burned']"
   ]
  },
  {
   "attachments": {},
   "cell_type": "markdown",
   "metadata": {},
   "source": [
    "###### 학습 데이터에서 타겟 컬럼 제거"
   ]
  },
  {
   "cell_type": "code",
   "execution_count": 153,
   "metadata": {},
   "outputs": [],
   "source": [
    "train1 = train.drop(columns='Calories_Burned')\n",
    "test1 = test"
   ]
  },
  {
   "attachments": {},
   "cell_type": "markdown",
   "metadata": {},
   "source": [
    "###### PolynomialFeatures와 StandardScaler를 사용한 학습 및 테스트 데이터 변환"
   ]
  },
  {
   "cell_type": "code",
   "execution_count": 160,
   "metadata": {},
   "outputs": [],
   "source": [
    "poly = PolynomialFeatures(degree=3, interaction_only=True)\n",
    "ss = StandardScaler()\n",
    "\n",
    "train_poly = pd.DataFrame(poly.fit_transform(train1))\n",
    "test_poly = pd.DataFrame(poly.transform(test1))\n",
    "train_poly = ss.fit_transform(train_poly)\n",
    "test_poly = ss.transform(test_poly)\n"
   ]
  },
  {
   "attachments": {},
   "cell_type": "markdown",
   "metadata": {},
   "source": [
    "### 모델 학습 및 검정"
   ]
  },
  {
   "cell_type": "code",
   "execution_count": 171,
   "metadata": {},
   "outputs": [],
   "source": [
    "# 데이터셋 분리\n",
    "from sklearn.model_selection import train_test_split\n",
    "\n",
    "train_X, val_X, train_Y, val_Y = train_test_split(train_poly, train_target, test_size=0.30, random_state=42, shuffle=True)"
   ]
  },
  {
   "cell_type": "code",
   "execution_count": 172,
   "metadata": {},
   "outputs": [
    {
     "data": {
      "text/plain": [
       "array([[ 0.        ,  0.65816506, -0.67782853, ...,  0.14000735,\n",
       "         0.34540304, -0.43910277],\n",
       "       [ 0.        ,  1.25662751,  1.09546303, ...,  0.46991616,\n",
       "         0.26502253,  2.00673473],\n",
       "       [ 0.        , -1.01752979, -0.88645107, ..., -0.63872937,\n",
       "        -0.73081102,  0.03866728],\n",
       "       ...,\n",
       "       [ 0.        , -0.53875983, -1.61662994, ...,  0.15691341,\n",
       "         0.0705335 ,  0.908528  ],\n",
       "       [ 0.        , -0.53875983, -1.19938487, ..., -0.1255449 ,\n",
       "         0.0890654 , -0.84983805],\n",
       "       [ 0.        , -1.61599224, -1.19938487, ..., -1.1332517 ,\n",
       "        -1.20582331, -1.02737745]])"
      ]
     },
     "execution_count": 172,
     "metadata": {},
     "output_type": "execute_result"
    }
   ],
   "source": [
    "train_X"
   ]
  },
  {
   "cell_type": "code",
   "execution_count": 173,
   "metadata": {},
   "outputs": [],
   "source": [
    "# 모델 선언 및 학습\n",
    "from sklearn.linear_model import LinearRegression\n",
    "lr = LinearRegression()"
   ]
  },
  {
   "cell_type": "code",
   "execution_count": 174,
   "metadata": {},
   "outputs": [],
   "source": [
    "from sklearn.model_selection import cross_validate\n",
    "cv_results = cross_validate(lr, train_X, train_Y, cv=5, scoring=('r2', 'neg_mean_squared_error'), return_estimator=True)\n",
    "best_estimator = cv_results['estimator'][cv_results['test_neg_mean_squared_error'].argmax()]"
   ]
  },
  {
   "attachments": {},
   "cell_type": "markdown",
   "metadata": {},
   "source": [
    "###### 검증세트를 이용한 예측 및 rmse 확인"
   ]
  },
  {
   "cell_type": "code",
   "execution_count": 175,
   "metadata": {},
   "outputs": [
    {
     "name": "stdout",
     "output_type": "stream",
     "text": [
      "RMSE는 0.2915353032591679입니다.\n"
     ]
    }
   ],
   "source": [
    "pred = best_estimator.predict(val_X)\n",
    "rmse = mean_squared_error(val_Y, pred, squared=False)\n",
    "print(f'RMSE는 {rmse}입니다.')"
   ]
  },
  {
   "attachments": {},
   "cell_type": "markdown",
   "metadata": {},
   "source": [
    "###### 테스트 세트를 이용한 데이터 예측 및 예측 값 저장"
   ]
  },
  {
   "cell_type": "code",
   "execution_count": 37,
   "metadata": {},
   "outputs": [],
   "source": [
    "# y_pred_test = best_model.predict(test_poly)"
   ]
  },
  {
   "cell_type": "code",
   "execution_count": 38,
   "metadata": {},
   "outputs": [],
   "source": [
    "# y_pred_test"
   ]
  },
  {
   "cell_type": "code",
   "execution_count": 39,
   "metadata": {},
   "outputs": [],
   "source": [
    "# sample_submission = pd.read_csv('C:/Users/Ted/Desktop/research/projects/calorie_prediction/dataset/sample_submission.csv')"
   ]
  },
  {
   "cell_type": "code",
   "execution_count": 40,
   "metadata": {},
   "outputs": [],
   "source": [
    "# sample_submission['Calories_Burned'] = y_pred_test\n",
    "# sample_submission.to_csv('submission_tf_gpu_gridcv.csv', index=False)"
   ]
  }
 ],
 "metadata": {
  "kernelspec": {
   "display_name": "calorie",
   "language": "python",
   "name": "python3"
  },
  "language_info": {
   "codemirror_mode": {
    "name": "ipython",
    "version": 3
   },
   "file_extension": ".py",
   "mimetype": "text/x-python",
   "name": "python",
   "nbconvert_exporter": "python",
   "pygments_lexer": "ipython3",
   "version": "3.9.16"
  },
  "orig_nbformat": 4
 },
 "nbformat": 4,
 "nbformat_minor": 2
}
