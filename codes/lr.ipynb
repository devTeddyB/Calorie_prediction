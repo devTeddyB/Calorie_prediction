{
 "cells": [
  {
   "attachments": {},
   "cell_type": "markdown",
   "metadata": {},
   "source": [
    "## Calories Prediction"
   ]
  },
  {
   "attachments": {},
   "cell_type": "markdown",
   "metadata": {},
   "source": [
    "### 차별화\n",
    "##### PolynomialFeatures의 degree=3, interaction_only=True를 사용하여 교호작용 항목만 생성\n",
    "##### 가장 기본적인 LinearRegressor만을 사용하여 학습"
   ]
  },
  {
   "cell_type": "code",
   "execution_count": 1,
   "metadata": {},
   "outputs": [],
   "source": [
    "import pandas as pd\n",
    "from sklearn.preprocessing import PolynomialFeatures\n",
    "from sklearn.model_selection import train_test_split\n",
    "from sklearn.preprocessing import StandardScaler\n",
    "from sklearn.metrics import mean_squared_error\n",
    "from sklearn.preprocessing import LabelEncoder\n",
    "import numpy as np\n",
    "import matplotlib.pyplot as plt\n",
    "import seaborn as sns"
   ]
  },
  {
   "cell_type": "code",
   "execution_count": 2,
   "metadata": {},
   "outputs": [],
   "source": [
    "train_path = 'C:/Users/Ted/Desktop/research/projects/calorie_prediction/dataset/train.csv'\n",
    "test_path = 'C:/Users/Ted/Desktop/research/projects/calorie_prediction/dataset/test.csv'"
   ]
  },
  {
   "cell_type": "code",
   "execution_count": 3,
   "metadata": {},
   "outputs": [],
   "source": [
    "train = pd.read_csv(train_path)\n",
    "test = pd.read_csv(test_path)"
   ]
  },
  {
   "cell_type": "code",
   "execution_count": 4,
   "metadata": {},
   "outputs": [
    {
     "data": {
      "text/plain": [
       "((7500, 11), (7500, 10))"
      ]
     },
     "execution_count": 4,
     "metadata": {},
     "output_type": "execute_result"
    }
   ],
   "source": [
    "train.shape, test.shape"
   ]
  },
  {
   "attachments": {},
   "cell_type": "markdown",
   "metadata": {},
   "source": [
    "## EDA"
   ]
  },
  {
   "attachments": {},
   "cell_type": "markdown",
   "metadata": {},
   "source": [
    "##### 학습 데이터 중복 확인"
   ]
  },
  {
   "cell_type": "code",
   "execution_count": 5,
   "metadata": {},
   "outputs": [
    {
     "data": {
      "text/plain": [
       "0"
      ]
     },
     "execution_count": 5,
     "metadata": {},
     "output_type": "execute_result"
    }
   ],
   "source": [
    "train.duplicated().sum()"
   ]
  },
  {
   "attachments": {},
   "cell_type": "markdown",
   "metadata": {},
   "source": [
    "###### 데이터 중복값 없음"
   ]
  },
  {
   "attachments": {},
   "cell_type": "markdown",
   "metadata": {},
   "source": [
    "##### 데이터 결측치 및 타입 확인"
   ]
  },
  {
   "cell_type": "code",
   "execution_count": 6,
   "metadata": {},
   "outputs": [
    {
     "name": "stdout",
     "output_type": "stream",
     "text": [
      "<class 'pandas.core.frame.DataFrame'>\n",
      "RangeIndex: 7500 entries, 0 to 7499\n",
      "Data columns (total 11 columns):\n",
      " #   Column                    Non-Null Count  Dtype  \n",
      "---  ------                    --------------  -----  \n",
      " 0   ID                        7500 non-null   object \n",
      " 1   Exercise_Duration         7500 non-null   float64\n",
      " 2   Body_Temperature(F)       7500 non-null   float64\n",
      " 3   BPM                       7500 non-null   float64\n",
      " 4   Height(Feet)              7500 non-null   float64\n",
      " 5   Height(Remainder_Inches)  7500 non-null   float64\n",
      " 6   Weight(lb)                7500 non-null   float64\n",
      " 7   Weight_Status             7500 non-null   object \n",
      " 8   Gender                    7500 non-null   object \n",
      " 9   Age                       7500 non-null   int64  \n",
      " 10  Calories_Burned           7500 non-null   float64\n",
      "dtypes: float64(7), int64(1), object(3)\n",
      "memory usage: 644.7+ KB\n"
     ]
    }
   ],
   "source": [
    "train.info()"
   ]
  },
  {
   "cell_type": "code",
   "execution_count": 7,
   "metadata": {},
   "outputs": [
    {
     "name": "stdout",
     "output_type": "stream",
     "text": [
      "<class 'pandas.core.frame.DataFrame'>\n",
      "RangeIndex: 7500 entries, 0 to 7499\n",
      "Data columns (total 10 columns):\n",
      " #   Column                    Non-Null Count  Dtype  \n",
      "---  ------                    --------------  -----  \n",
      " 0   ID                        7500 non-null   object \n",
      " 1   Exercise_Duration         7500 non-null   float64\n",
      " 2   Body_Temperature(F)       7500 non-null   float64\n",
      " 3   BPM                       7500 non-null   float64\n",
      " 4   Height(Feet)              7500 non-null   float64\n",
      " 5   Height(Remainder_Inches)  7500 non-null   float64\n",
      " 6   Weight(lb)                7500 non-null   float64\n",
      " 7   Weight_Status             7500 non-null   object \n",
      " 8   Gender                    7500 non-null   object \n",
      " 9   Age                       7500 non-null   int64  \n",
      "dtypes: float64(6), int64(1), object(3)\n",
      "memory usage: 586.1+ KB\n"
     ]
    }
   ],
   "source": [
    "test.info()"
   ]
  },
  {
   "attachments": {},
   "cell_type": "markdown",
   "metadata": {},
   "source": [
    "###### 데이터 결측치 없음"
   ]
  },
  {
   "attachments": {},
   "cell_type": "markdown",
   "metadata": {},
   "source": [
    "##### 특성공학\n",
    "###### Height(Feet) 와 Height(Remainder_Incses) 를 이용하여 Height(cm) 컬럼 생성\n",
    "###### ℉ 화씨 온도를 ℃ 섭씨 온도로 변환한 Body_Temperature(C) 컬럼 생성\n",
    "###### lb(파운드) 를 kg 으로 변환한 Weight(kg) 컬럼 생성\n",
    "###### 학습과 분석에 불필요한 컬럼들 삭제"
   ]
  },
  {
   "cell_type": "code",
   "execution_count": 8,
   "metadata": {},
   "outputs": [],
   "source": [
    "def feature_engineering(df):\n",
    "    df['Height(cm)']=df['Height(Feet)']*30.48 + df['Height(Remainder_Inches)']*2.54\n",
    "\n",
    "    df['Body_Temperature(C)']=(df['Body_Temperature(F)']-32)*5/9\n",
    "\n",
    "    df['Weight(kg)']=(df['Weight(lb)']*0.45359237)\n",
    "\n",
    "    df.drop(['ID','Body_Temperature(F)', 'Height(Feet)', 'Height(Remainder_Inches)', 'Weight(lb)'], axis=1, inplace=True)"
   ]
  },
  {
   "attachments": {},
   "cell_type": "markdown",
   "metadata": {},
   "source": [
    "##### feature_engineering(df) 함수 실행"
   ]
  },
  {
   "cell_type": "code",
   "execution_count": 9,
   "metadata": {},
   "outputs": [],
   "source": [
    "feature_engineering(train)\n",
    "feature_engineering(test)"
   ]
  },
  {
   "attachments": {},
   "cell_type": "markdown",
   "metadata": {},
   "source": [
    "###### 데이터 확인"
   ]
  },
  {
   "cell_type": "code",
   "execution_count": 10,
   "metadata": {},
   "outputs": [
    {
     "data": {
      "text/html": [
       "<div>\n",
       "<style scoped>\n",
       "    .dataframe tbody tr th:only-of-type {\n",
       "        vertical-align: middle;\n",
       "    }\n",
       "\n",
       "    .dataframe tbody tr th {\n",
       "        vertical-align: top;\n",
       "    }\n",
       "\n",
       "    .dataframe thead th {\n",
       "        text-align: right;\n",
       "    }\n",
       "</style>\n",
       "<table border=\"1\" class=\"dataframe\">\n",
       "  <thead>\n",
       "    <tr style=\"text-align: right;\">\n",
       "      <th></th>\n",
       "      <th>Exercise_Duration</th>\n",
       "      <th>BPM</th>\n",
       "      <th>Weight_Status</th>\n",
       "      <th>Gender</th>\n",
       "      <th>Age</th>\n",
       "      <th>Calories_Burned</th>\n",
       "      <th>Height(cm)</th>\n",
       "      <th>Body_Temperature(C)</th>\n",
       "      <th>Weight(kg)</th>\n",
       "    </tr>\n",
       "  </thead>\n",
       "  <tbody>\n",
       "    <tr>\n",
       "      <th>0</th>\n",
       "      <td>26.0</td>\n",
       "      <td>107.0</td>\n",
       "      <td>Normal Weight</td>\n",
       "      <td>F</td>\n",
       "      <td>45</td>\n",
       "      <td>166.0</td>\n",
       "      <td>175.26</td>\n",
       "      <td>40.888889</td>\n",
       "      <td>69.989303</td>\n",
       "    </tr>\n",
       "    <tr>\n",
       "      <th>1</th>\n",
       "      <td>7.0</td>\n",
       "      <td>88.0</td>\n",
       "      <td>Overweight</td>\n",
       "      <td>M</td>\n",
       "      <td>50</td>\n",
       "      <td>33.0</td>\n",
       "      <td>198.12</td>\n",
       "      <td>39.611111</td>\n",
       "      <td>102.012924</td>\n",
       "    </tr>\n",
       "    <tr>\n",
       "      <th>2</th>\n",
       "      <td>7.0</td>\n",
       "      <td>86.0</td>\n",
       "      <td>Overweight</td>\n",
       "      <td>M</td>\n",
       "      <td>29</td>\n",
       "      <td>23.0</td>\n",
       "      <td>190.50</td>\n",
       "      <td>39.611111</td>\n",
       "      <td>99.019214</td>\n",
       "    </tr>\n",
       "    <tr>\n",
       "      <th>3</th>\n",
       "      <td>17.0</td>\n",
       "      <td>99.0</td>\n",
       "      <td>Normal Weight</td>\n",
       "      <td>F</td>\n",
       "      <td>33</td>\n",
       "      <td>91.0</td>\n",
       "      <td>167.64</td>\n",
       "      <td>40.000000</td>\n",
       "      <td>66.995593</td>\n",
       "    </tr>\n",
       "    <tr>\n",
       "      <th>4</th>\n",
       "      <td>9.0</td>\n",
       "      <td>88.0</td>\n",
       "      <td>Normal Weight</td>\n",
       "      <td>M</td>\n",
       "      <td>38</td>\n",
       "      <td>32.0</td>\n",
       "      <td>177.80</td>\n",
       "      <td>39.277778</td>\n",
       "      <td>77.019984</td>\n",
       "    </tr>\n",
       "    <tr>\n",
       "      <th>...</th>\n",
       "      <td>...</td>\n",
       "      <td>...</td>\n",
       "      <td>...</td>\n",
       "      <td>...</td>\n",
       "      <td>...</td>\n",
       "      <td>...</td>\n",
       "      <td>...</td>\n",
       "      <td>...</td>\n",
       "      <td>...</td>\n",
       "    </tr>\n",
       "    <tr>\n",
       "      <th>7495</th>\n",
       "      <td>22.0</td>\n",
       "      <td>104.0</td>\n",
       "      <td>Normal Weight</td>\n",
       "      <td>F</td>\n",
       "      <td>75</td>\n",
       "      <td>151.0</td>\n",
       "      <td>147.32</td>\n",
       "      <td>40.611111</td>\n",
       "      <td>50.983782</td>\n",
       "    </tr>\n",
       "    <tr>\n",
       "      <th>7496</th>\n",
       "      <td>20.0</td>\n",
       "      <td>104.0</td>\n",
       "      <td>Normal Weight</td>\n",
       "      <td>F</td>\n",
       "      <td>21</td>\n",
       "      <td>114.0</td>\n",
       "      <td>172.72</td>\n",
       "      <td>40.722222</td>\n",
       "      <td>66.995593</td>\n",
       "    </tr>\n",
       "    <tr>\n",
       "      <th>7497</th>\n",
       "      <td>8.0</td>\n",
       "      <td>90.0</td>\n",
       "      <td>Overweight</td>\n",
       "      <td>M</td>\n",
       "      <td>57</td>\n",
       "      <td>41.0</td>\n",
       "      <td>187.96</td>\n",
       "      <td>39.500000</td>\n",
       "      <td>91.988533</td>\n",
       "    </tr>\n",
       "    <tr>\n",
       "      <th>7498</th>\n",
       "      <td>12.0</td>\n",
       "      <td>97.0</td>\n",
       "      <td>Overweight</td>\n",
       "      <td>M</td>\n",
       "      <td>35</td>\n",
       "      <td>57.0</td>\n",
       "      <td>175.26</td>\n",
       "      <td>40.222222</td>\n",
       "      <td>76.022081</td>\n",
       "    </tr>\n",
       "    <tr>\n",
       "      <th>7499</th>\n",
       "      <td>16.0</td>\n",
       "      <td>91.0</td>\n",
       "      <td>Overweight</td>\n",
       "      <td>M</td>\n",
       "      <td>26</td>\n",
       "      <td>59.0</td>\n",
       "      <td>182.88</td>\n",
       "      <td>40.500000</td>\n",
       "      <td>86.001113</td>\n",
       "    </tr>\n",
       "  </tbody>\n",
       "</table>\n",
       "<p>7500 rows × 9 columns</p>\n",
       "</div>"
      ],
      "text/plain": [
       "      Exercise_Duration    BPM  Weight_Status Gender  Age  Calories_Burned   \n",
       "0                  26.0  107.0  Normal Weight      F   45            166.0  \\\n",
       "1                   7.0   88.0     Overweight      M   50             33.0   \n",
       "2                   7.0   86.0     Overweight      M   29             23.0   \n",
       "3                  17.0   99.0  Normal Weight      F   33             91.0   \n",
       "4                   9.0   88.0  Normal Weight      M   38             32.0   \n",
       "...                 ...    ...            ...    ...  ...              ...   \n",
       "7495               22.0  104.0  Normal Weight      F   75            151.0   \n",
       "7496               20.0  104.0  Normal Weight      F   21            114.0   \n",
       "7497                8.0   90.0     Overweight      M   57             41.0   \n",
       "7498               12.0   97.0     Overweight      M   35             57.0   \n",
       "7499               16.0   91.0     Overweight      M   26             59.0   \n",
       "\n",
       "      Height(cm)  Body_Temperature(C)  Weight(kg)  \n",
       "0         175.26            40.888889   69.989303  \n",
       "1         198.12            39.611111  102.012924  \n",
       "2         190.50            39.611111   99.019214  \n",
       "3         167.64            40.000000   66.995593  \n",
       "4         177.80            39.277778   77.019984  \n",
       "...          ...                  ...         ...  \n",
       "7495      147.32            40.611111   50.983782  \n",
       "7496      172.72            40.722222   66.995593  \n",
       "7497      187.96            39.500000   91.988533  \n",
       "7498      175.26            40.222222   76.022081  \n",
       "7499      182.88            40.500000   86.001113  \n",
       "\n",
       "[7500 rows x 9 columns]"
      ]
     },
     "execution_count": 10,
     "metadata": {},
     "output_type": "execute_result"
    }
   ],
   "source": [
    "train"
   ]
  },
  {
   "attachments": {},
   "cell_type": "markdown",
   "metadata": {},
   "source": [
    "### 데이터 전처리\n",
    "###### 카테고리컬 데이터 인코딩\n",
    "###### PolynomialFeatures 를 사용하여 다항식 특성 추가\n",
    "###### StandardScaler 를 사용하여 수치형 데이터의 스케일을 통일"
   ]
  },
  {
   "cell_type": "code",
   "execution_count": 11,
   "metadata": {},
   "outputs": [],
   "source": [
    "# 'Weight_Status', 'Gender'컬럼 인코딩\n",
    "from sklearn.preprocessing import LabelEncoder"
   ]
  },
  {
   "attachments": {},
   "cell_type": "markdown",
   "metadata": {},
   "source": [
    "###### categorical features 선언"
   ]
  },
  {
   "cell_type": "code",
   "execution_count": 12,
   "metadata": {},
   "outputs": [],
   "source": [
    "categorical_features = ['Weight_Status', 'Gender']\n",
    "numerical_features = ['Exercise_Duration', 'BPM', 'Age', 'Height(cm)', 'Body_Temperature(C)','Weight(kg)']"
   ]
  },
  {
   "attachments": {},
   "cell_type": "markdown",
   "metadata": {},
   "source": [
    "###### Labelencoder"
   ]
  },
  {
   "cell_type": "code",
   "execution_count": 13,
   "metadata": {},
   "outputs": [],
   "source": [
    "def preprocessing(train, test):\n",
    "    for feature in categorical_features:\n",
    "        le = LabelEncoder()\n",
    "        le = le.fit(train[feature])\n",
    "        train[feature] = le.transform(train[feature])\n",
    "        for label in np.unique(test[feature]):\n",
    "            if label not in le.classes_:\n",
    "                le.classes_ = np.append(le.classes_, label)\n",
    "        test[feature] = le.transform(test[feature])"
   ]
  },
  {
   "cell_type": "code",
   "execution_count": 14,
   "metadata": {},
   "outputs": [],
   "source": [
    "preprocessing(train, test)"
   ]
  },
  {
   "cell_type": "code",
   "execution_count": 15,
   "metadata": {},
   "outputs": [],
   "source": [
    "# 타겟 데이터\n",
    "train_target = train['Calories_Burned']"
   ]
  },
  {
   "attachments": {},
   "cell_type": "markdown",
   "metadata": {},
   "source": [
    "###### 학습 데이터에서 타겟 컬럼 제거"
   ]
  },
  {
   "cell_type": "code",
   "execution_count": 34,
   "metadata": {},
   "outputs": [],
   "source": [
    "train1 = train.drop(columns='Calories_Burned')\n",
    "test1 = test"
   ]
  },
  {
   "attachments": {},
   "cell_type": "markdown",
   "metadata": {},
   "source": [
    "###### PolynomialFeatures와 StandardScaler를 사용한 학습 및 테스트 데이터 변환"
   ]
  },
  {
   "cell_type": "code",
   "execution_count": 35,
   "metadata": {},
   "outputs": [],
   "source": [
    "poly = PolynomialFeatures(degree=3, interaction_only=True)\n",
    "ss = StandardScaler()\n",
    "\n",
    "train_poly = pd.DataFrame(poly.fit_transform(train1))\n",
    "test_poly = pd.DataFrame(poly.transform(test1))\n",
    "train_poly = ss.fit_transform(train_poly)\n",
    "test_poly = ss.transform(test_poly)\n"
   ]
  },
  {
   "attachments": {},
   "cell_type": "markdown",
   "metadata": {},
   "source": [
    "### 모델 학습 및 검정"
   ]
  },
  {
   "cell_type": "code",
   "execution_count": 36,
   "metadata": {},
   "outputs": [],
   "source": [
    "# 데이터셋 분리\n",
    "from sklearn.model_selection import train_test_split\n",
    "\n",
    "train_X, val_X, train_Y, val_Y = train_test_split(train_poly, train_target, test_size=0.30, random_state=42, shuffle=True)"
   ]
  },
  {
   "cell_type": "code",
   "execution_count": 37,
   "metadata": {},
   "outputs": [
    {
     "data": {
      "text/plain": [
       "array([[ 0.        , -0.17968237,  0.36528415, ..., -0.78048491,\n",
       "        -0.63385835, -1.13365203],\n",
       "       [ 0.        , -0.8978373 , -0.99076233, ...,  1.33288419,\n",
       "         1.53040175,  0.20498861],\n",
       "       [ 0.        , -1.25691477, -1.30369614, ...,  0.11252801,\n",
       "         0.23542591, -0.92751608],\n",
       "       ...,\n",
       "       [ 0.        , -0.53875983, -1.61662994, ...,  0.15691341,\n",
       "         0.0705335 ,  0.908528  ],\n",
       "       [ 0.        , -0.53875983, -1.19938487, ..., -0.1255449 ,\n",
       "         0.0890654 , -0.84983805],\n",
       "       [ 0.        , -1.61599224, -1.19938487, ..., -1.1332517 ,\n",
       "        -1.20582331, -1.02737745]])"
      ]
     },
     "execution_count": 37,
     "metadata": {},
     "output_type": "execute_result"
    }
   ],
   "source": [
    "train_X"
   ]
  },
  {
   "cell_type": "code",
   "execution_count": 38,
   "metadata": {},
   "outputs": [],
   "source": [
    "# 모델 선언 및 학습\n",
    "from sklearn.linear_model import LinearRegression\n",
    "lr = LinearRegression()"
   ]
  },
  {
   "cell_type": "code",
   "execution_count": 39,
   "metadata": {},
   "outputs": [
    {
     "data": {
      "text/html": [
       "<style>#sk-container-id-4 {color: black;background-color: white;}#sk-container-id-4 pre{padding: 0;}#sk-container-id-4 div.sk-toggleable {background-color: white;}#sk-container-id-4 label.sk-toggleable__label {cursor: pointer;display: block;width: 100%;margin-bottom: 0;padding: 0.3em;box-sizing: border-box;text-align: center;}#sk-container-id-4 label.sk-toggleable__label-arrow:before {content: \"▸\";float: left;margin-right: 0.25em;color: #696969;}#sk-container-id-4 label.sk-toggleable__label-arrow:hover:before {color: black;}#sk-container-id-4 div.sk-estimator:hover label.sk-toggleable__label-arrow:before {color: black;}#sk-container-id-4 div.sk-toggleable__content {max-height: 0;max-width: 0;overflow: hidden;text-align: left;background-color: #f0f8ff;}#sk-container-id-4 div.sk-toggleable__content pre {margin: 0.2em;color: black;border-radius: 0.25em;background-color: #f0f8ff;}#sk-container-id-4 input.sk-toggleable__control:checked~div.sk-toggleable__content {max-height: 200px;max-width: 100%;overflow: auto;}#sk-container-id-4 input.sk-toggleable__control:checked~label.sk-toggleable__label-arrow:before {content: \"▾\";}#sk-container-id-4 div.sk-estimator input.sk-toggleable__control:checked~label.sk-toggleable__label {background-color: #d4ebff;}#sk-container-id-4 div.sk-label input.sk-toggleable__control:checked~label.sk-toggleable__label {background-color: #d4ebff;}#sk-container-id-4 input.sk-hidden--visually {border: 0;clip: rect(1px 1px 1px 1px);clip: rect(1px, 1px, 1px, 1px);height: 1px;margin: -1px;overflow: hidden;padding: 0;position: absolute;width: 1px;}#sk-container-id-4 div.sk-estimator {font-family: monospace;background-color: #f0f8ff;border: 1px dotted black;border-radius: 0.25em;box-sizing: border-box;margin-bottom: 0.5em;}#sk-container-id-4 div.sk-estimator:hover {background-color: #d4ebff;}#sk-container-id-4 div.sk-parallel-item::after {content: \"\";width: 100%;border-bottom: 1px solid gray;flex-grow: 1;}#sk-container-id-4 div.sk-label:hover label.sk-toggleable__label {background-color: #d4ebff;}#sk-container-id-4 div.sk-serial::before {content: \"\";position: absolute;border-left: 1px solid gray;box-sizing: border-box;top: 0;bottom: 0;left: 50%;z-index: 0;}#sk-container-id-4 div.sk-serial {display: flex;flex-direction: column;align-items: center;background-color: white;padding-right: 0.2em;padding-left: 0.2em;position: relative;}#sk-container-id-4 div.sk-item {position: relative;z-index: 1;}#sk-container-id-4 div.sk-parallel {display: flex;align-items: stretch;justify-content: center;background-color: white;position: relative;}#sk-container-id-4 div.sk-item::before, #sk-container-id-4 div.sk-parallel-item::before {content: \"\";position: absolute;border-left: 1px solid gray;box-sizing: border-box;top: 0;bottom: 0;left: 50%;z-index: -1;}#sk-container-id-4 div.sk-parallel-item {display: flex;flex-direction: column;z-index: 1;position: relative;background-color: white;}#sk-container-id-4 div.sk-parallel-item:first-child::after {align-self: flex-end;width: 50%;}#sk-container-id-4 div.sk-parallel-item:last-child::after {align-self: flex-start;width: 50%;}#sk-container-id-4 div.sk-parallel-item:only-child::after {width: 0;}#sk-container-id-4 div.sk-dashed-wrapped {border: 1px dashed gray;margin: 0 0.4em 0.5em 0.4em;box-sizing: border-box;padding-bottom: 0.4em;background-color: white;}#sk-container-id-4 div.sk-label label {font-family: monospace;font-weight: bold;display: inline-block;line-height: 1.2em;}#sk-container-id-4 div.sk-label-container {text-align: center;}#sk-container-id-4 div.sk-container {/* jupyter's `normalize.less` sets `[hidden] { display: none; }` but bootstrap.min.css set `[hidden] { display: none !important; }` so we also need the `!important` here to be able to override the default hidden behavior on the sphinx rendered scikit-learn.org. See: https://github.com/scikit-learn/scikit-learn/issues/21755 */display: inline-block !important;position: relative;}#sk-container-id-4 div.sk-text-repr-fallback {display: none;}</style><div id=\"sk-container-id-4\" class=\"sk-top-container\"><div class=\"sk-text-repr-fallback\"><pre>LinearRegression()</pre><b>In a Jupyter environment, please rerun this cell to show the HTML representation or trust the notebook. <br />On GitHub, the HTML representation is unable to render, please try loading this page with nbviewer.org.</b></div><div class=\"sk-container\" hidden><div class=\"sk-item\"><div class=\"sk-estimator sk-toggleable\"><input class=\"sk-toggleable__control sk-hidden--visually\" id=\"sk-estimator-id-4\" type=\"checkbox\" checked><label for=\"sk-estimator-id-4\" class=\"sk-toggleable__label sk-toggleable__label-arrow\">LinearRegression</label><div class=\"sk-toggleable__content\"><pre>LinearRegression()</pre></div></div></div></div></div>"
      ],
      "text/plain": [
       "LinearRegression()"
      ]
     },
     "execution_count": 39,
     "metadata": {},
     "output_type": "execute_result"
    }
   ],
   "source": [
    "lr.fit(train_X, train_Y)"
   ]
  },
  {
   "attachments": {},
   "cell_type": "markdown",
   "metadata": {},
   "source": [
    "###### 검증세트를 이용한 예측 및 rmse 확인"
   ]
  },
  {
   "cell_type": "code",
   "execution_count": 40,
   "metadata": {},
   "outputs": [
    {
     "name": "stdout",
     "output_type": "stream",
     "text": [
      "RMSE는 0.2893959030869278입니다.\n"
     ]
    }
   ],
   "source": [
    "pred = lr.predict(val_X)\n",
    "rmse = mean_squared_error(val_Y, pred, squared=False)\n",
    "print(f'RMSE는 {rmse}입니다.')"
   ]
  },
  {
   "attachments": {},
   "cell_type": "markdown",
   "metadata": {},
   "source": [
    "###### 테스트 세트를 이용한 데이터 예측 및 예측 값 저장"
   ]
  },
  {
   "cell_type": "code",
   "execution_count": 37,
   "metadata": {},
   "outputs": [],
   "source": [
    "# y_pred_test = best_model.predict(test_poly)"
   ]
  },
  {
   "cell_type": "code",
   "execution_count": 38,
   "metadata": {},
   "outputs": [],
   "source": [
    "# y_pred_test"
   ]
  },
  {
   "cell_type": "code",
   "execution_count": 39,
   "metadata": {},
   "outputs": [],
   "source": [
    "# sample_submission = pd.read_csv('C:/Users/Ted/Desktop/research/projects/calorie_prediction/dataset/sample_submission.csv')"
   ]
  },
  {
   "cell_type": "code",
   "execution_count": 40,
   "metadata": {},
   "outputs": [],
   "source": [
    "# sample_submission['Calories_Burned'] = y_pred_test\n",
    "# sample_submission.to_csv('submission_tf_gpu_gridcv.csv', index=False)"
   ]
  }
 ],
 "metadata": {
  "kernelspec": {
   "display_name": "calorie",
   "language": "python",
   "name": "python3"
  },
  "language_info": {
   "codemirror_mode": {
    "name": "ipython",
    "version": 3
   },
   "file_extension": ".py",
   "mimetype": "text/x-python",
   "name": "python",
   "nbconvert_exporter": "python",
   "pygments_lexer": "ipython3",
   "version": "3.9.16"
  },
  "orig_nbformat": 4
 },
 "nbformat": 4,
 "nbformat_minor": 2
}
