{
 "cells": [
  {
   "attachments": {},
   "cell_type": "markdown",
   "metadata": {},
   "source": [
    "## Calories Prediction"
   ]
  },
  {
   "attachments": {},
   "cell_type": "markdown",
   "metadata": {},
   "source": [
    "### 차별화\n",
    "##### LinearRegressor 모델에 교차검증을 사용하여 베스트 모델로 예측 결과 확인\n",
    "##### PolynomialFeatures 에서 degree = 3, interaction_only=True를 사용하여 교호작용에 해당하는 다항만 생성\n",
    "##### Weight_Status 컬럼 삭제 후 모델링"
   ]
  },
  {
   "cell_type": "code",
   "execution_count": 1,
   "metadata": {},
   "outputs": [],
   "source": [
    "import pandas as pd\n",
    "from sklearn.preprocessing import PolynomialFeatures\n",
    "from sklearn.model_selection import train_test_split\n",
    "from sklearn.preprocessing import StandardScaler\n",
    "from sklearn.metrics import mean_squared_error\n",
    "from sklearn.preprocessing import LabelEncoder\n",
    "import numpy as np\n",
    "import matplotlib.pyplot as plt\n",
    "import seaborn as sns"
   ]
  },
  {
   "cell_type": "code",
   "execution_count": 2,
   "metadata": {},
   "outputs": [],
   "source": [
    "train_path = 'C:/Users/Ted/Desktop/research/projects/calorie_prediction/dataset/train.csv'\n",
    "test_path = 'C:/Users/Ted/Desktop/research/projects/calorie_prediction/dataset/test.csv'"
   ]
  },
  {
   "cell_type": "code",
   "execution_count": 3,
   "metadata": {},
   "outputs": [],
   "source": [
    "train = pd.read_csv(train_path)\n",
    "test = pd.read_csv(test_path)"
   ]
  },
  {
   "cell_type": "code",
   "execution_count": 4,
   "metadata": {},
   "outputs": [
    {
     "data": {
      "text/plain": [
       "((7500, 11), (7500, 10))"
      ]
     },
     "execution_count": 4,
     "metadata": {},
     "output_type": "execute_result"
    }
   ],
   "source": [
    "train.shape, test.shape"
   ]
  },
  {
   "attachments": {},
   "cell_type": "markdown",
   "metadata": {},
   "source": [
    "## EDA"
   ]
  },
  {
   "attachments": {},
   "cell_type": "markdown",
   "metadata": {},
   "source": [
    "##### 학습 데이터 중복 확인"
   ]
  },
  {
   "cell_type": "code",
   "execution_count": 5,
   "metadata": {},
   "outputs": [
    {
     "data": {
      "text/plain": [
       "0"
      ]
     },
     "execution_count": 5,
     "metadata": {},
     "output_type": "execute_result"
    }
   ],
   "source": [
    "train.duplicated().sum()"
   ]
  },
  {
   "attachments": {},
   "cell_type": "markdown",
   "metadata": {},
   "source": [
    "###### 데이터 중복값 없음"
   ]
  },
  {
   "attachments": {},
   "cell_type": "markdown",
   "metadata": {},
   "source": [
    "##### 데이터 결측치 및 타입 확인"
   ]
  },
  {
   "cell_type": "code",
   "execution_count": 6,
   "metadata": {},
   "outputs": [
    {
     "name": "stdout",
     "output_type": "stream",
     "text": [
      "<class 'pandas.core.frame.DataFrame'>\n",
      "RangeIndex: 7500 entries, 0 to 7499\n",
      "Data columns (total 11 columns):\n",
      " #   Column                    Non-Null Count  Dtype  \n",
      "---  ------                    --------------  -----  \n",
      " 0   ID                        7500 non-null   object \n",
      " 1   Exercise_Duration         7500 non-null   float64\n",
      " 2   Body_Temperature(F)       7500 non-null   float64\n",
      " 3   BPM                       7500 non-null   float64\n",
      " 4   Height(Feet)              7500 non-null   float64\n",
      " 5   Height(Remainder_Inches)  7500 non-null   float64\n",
      " 6   Weight(lb)                7500 non-null   float64\n",
      " 7   Weight_Status             7500 non-null   object \n",
      " 8   Gender                    7500 non-null   object \n",
      " 9   Age                       7500 non-null   int64  \n",
      " 10  Calories_Burned           7500 non-null   float64\n",
      "dtypes: float64(7), int64(1), object(3)\n",
      "memory usage: 644.7+ KB\n"
     ]
    }
   ],
   "source": [
    "train.info()"
   ]
  },
  {
   "cell_type": "code",
   "execution_count": 7,
   "metadata": {},
   "outputs": [
    {
     "name": "stdout",
     "output_type": "stream",
     "text": [
      "<class 'pandas.core.frame.DataFrame'>\n",
      "RangeIndex: 7500 entries, 0 to 7499\n",
      "Data columns (total 10 columns):\n",
      " #   Column                    Non-Null Count  Dtype  \n",
      "---  ------                    --------------  -----  \n",
      " 0   ID                        7500 non-null   object \n",
      " 1   Exercise_Duration         7500 non-null   float64\n",
      " 2   Body_Temperature(F)       7500 non-null   float64\n",
      " 3   BPM                       7500 non-null   float64\n",
      " 4   Height(Feet)              7500 non-null   float64\n",
      " 5   Height(Remainder_Inches)  7500 non-null   float64\n",
      " 6   Weight(lb)                7500 non-null   float64\n",
      " 7   Weight_Status             7500 non-null   object \n",
      " 8   Gender                    7500 non-null   object \n",
      " 9   Age                       7500 non-null   int64  \n",
      "dtypes: float64(6), int64(1), object(3)\n",
      "memory usage: 586.1+ KB\n"
     ]
    }
   ],
   "source": [
    "test.info()"
   ]
  },
  {
   "attachments": {},
   "cell_type": "markdown",
   "metadata": {},
   "source": [
    "###### 데이터 결측치 없음"
   ]
  },
  {
   "attachments": {},
   "cell_type": "markdown",
   "metadata": {},
   "source": [
    "##### 특성공학\n",
    "###### Height(Feet) 와 Height(Remainder_Incses) 를 이용하여 Height(cm) 컬럼 생성\n",
    "###### ℉ 화씨 온도를 ℃ 섭씨 온도로 변환한 Body_Temperature(C) 컬럼 생성\n",
    "###### lb(파운드) 를 kg 으로 변환한 Weight(kg) 컬럼 생성\n",
    "###### 학습과 분석에 불필요한 컬럼들 삭제"
   ]
  },
  {
   "cell_type": "code",
   "execution_count": 8,
   "metadata": {},
   "outputs": [],
   "source": [
    "def feature_engineering(df):\n",
    "    df['Height(cm)']=df['Height(Feet)']*30.48 + df['Height(Remainder_Inches)']*2.54\n",
    "\n",
    "    df['Body_Temperature(C)']=(df['Body_Temperature(F)']-32)*5/9\n",
    "\n",
    "    df['Weight(kg)']=(df['Weight(lb)']*0.45359237)\n",
    "\n",
    "    df.drop(['ID','Body_Temperature(F)', 'Height(Feet)', 'Height(Remainder_Inches)', 'Weight(lb)'], axis=1, inplace=True)"
   ]
  },
  {
   "attachments": {},
   "cell_type": "markdown",
   "metadata": {},
   "source": [
    "##### feature_engineering(df) 함수 실행"
   ]
  },
  {
   "cell_type": "code",
   "execution_count": 9,
   "metadata": {},
   "outputs": [],
   "source": [
    "feature_engineering(train)\n",
    "feature_engineering(test)"
   ]
  },
  {
   "attachments": {},
   "cell_type": "markdown",
   "metadata": {},
   "source": [
    "###### 데이터 확인"
   ]
  },
  {
   "cell_type": "code",
   "execution_count": 10,
   "metadata": {},
   "outputs": [
    {
     "data": {
      "text/html": [
       "<div>\n",
       "<style scoped>\n",
       "    .dataframe tbody tr th:only-of-type {\n",
       "        vertical-align: middle;\n",
       "    }\n",
       "\n",
       "    .dataframe tbody tr th {\n",
       "        vertical-align: top;\n",
       "    }\n",
       "\n",
       "    .dataframe thead th {\n",
       "        text-align: right;\n",
       "    }\n",
       "</style>\n",
       "<table border=\"1\" class=\"dataframe\">\n",
       "  <thead>\n",
       "    <tr style=\"text-align: right;\">\n",
       "      <th></th>\n",
       "      <th>Exercise_Duration</th>\n",
       "      <th>BPM</th>\n",
       "      <th>Weight_Status</th>\n",
       "      <th>Gender</th>\n",
       "      <th>Age</th>\n",
       "      <th>Calories_Burned</th>\n",
       "      <th>Height(cm)</th>\n",
       "      <th>Body_Temperature(C)</th>\n",
       "      <th>Weight(kg)</th>\n",
       "    </tr>\n",
       "  </thead>\n",
       "  <tbody>\n",
       "    <tr>\n",
       "      <th>0</th>\n",
       "      <td>26.0</td>\n",
       "      <td>107.0</td>\n",
       "      <td>Normal Weight</td>\n",
       "      <td>F</td>\n",
       "      <td>45</td>\n",
       "      <td>166.0</td>\n",
       "      <td>175.26</td>\n",
       "      <td>40.888889</td>\n",
       "      <td>69.989303</td>\n",
       "    </tr>\n",
       "    <tr>\n",
       "      <th>1</th>\n",
       "      <td>7.0</td>\n",
       "      <td>88.0</td>\n",
       "      <td>Overweight</td>\n",
       "      <td>M</td>\n",
       "      <td>50</td>\n",
       "      <td>33.0</td>\n",
       "      <td>198.12</td>\n",
       "      <td>39.611111</td>\n",
       "      <td>102.012924</td>\n",
       "    </tr>\n",
       "    <tr>\n",
       "      <th>2</th>\n",
       "      <td>7.0</td>\n",
       "      <td>86.0</td>\n",
       "      <td>Overweight</td>\n",
       "      <td>M</td>\n",
       "      <td>29</td>\n",
       "      <td>23.0</td>\n",
       "      <td>190.50</td>\n",
       "      <td>39.611111</td>\n",
       "      <td>99.019214</td>\n",
       "    </tr>\n",
       "    <tr>\n",
       "      <th>3</th>\n",
       "      <td>17.0</td>\n",
       "      <td>99.0</td>\n",
       "      <td>Normal Weight</td>\n",
       "      <td>F</td>\n",
       "      <td>33</td>\n",
       "      <td>91.0</td>\n",
       "      <td>167.64</td>\n",
       "      <td>40.000000</td>\n",
       "      <td>66.995593</td>\n",
       "    </tr>\n",
       "    <tr>\n",
       "      <th>4</th>\n",
       "      <td>9.0</td>\n",
       "      <td>88.0</td>\n",
       "      <td>Normal Weight</td>\n",
       "      <td>M</td>\n",
       "      <td>38</td>\n",
       "      <td>32.0</td>\n",
       "      <td>177.80</td>\n",
       "      <td>39.277778</td>\n",
       "      <td>77.019984</td>\n",
       "    </tr>\n",
       "    <tr>\n",
       "      <th>...</th>\n",
       "      <td>...</td>\n",
       "      <td>...</td>\n",
       "      <td>...</td>\n",
       "      <td>...</td>\n",
       "      <td>...</td>\n",
       "      <td>...</td>\n",
       "      <td>...</td>\n",
       "      <td>...</td>\n",
       "      <td>...</td>\n",
       "    </tr>\n",
       "    <tr>\n",
       "      <th>7495</th>\n",
       "      <td>22.0</td>\n",
       "      <td>104.0</td>\n",
       "      <td>Normal Weight</td>\n",
       "      <td>F</td>\n",
       "      <td>75</td>\n",
       "      <td>151.0</td>\n",
       "      <td>147.32</td>\n",
       "      <td>40.611111</td>\n",
       "      <td>50.983782</td>\n",
       "    </tr>\n",
       "    <tr>\n",
       "      <th>7496</th>\n",
       "      <td>20.0</td>\n",
       "      <td>104.0</td>\n",
       "      <td>Normal Weight</td>\n",
       "      <td>F</td>\n",
       "      <td>21</td>\n",
       "      <td>114.0</td>\n",
       "      <td>172.72</td>\n",
       "      <td>40.722222</td>\n",
       "      <td>66.995593</td>\n",
       "    </tr>\n",
       "    <tr>\n",
       "      <th>7497</th>\n",
       "      <td>8.0</td>\n",
       "      <td>90.0</td>\n",
       "      <td>Overweight</td>\n",
       "      <td>M</td>\n",
       "      <td>57</td>\n",
       "      <td>41.0</td>\n",
       "      <td>187.96</td>\n",
       "      <td>39.500000</td>\n",
       "      <td>91.988533</td>\n",
       "    </tr>\n",
       "    <tr>\n",
       "      <th>7498</th>\n",
       "      <td>12.0</td>\n",
       "      <td>97.0</td>\n",
       "      <td>Overweight</td>\n",
       "      <td>M</td>\n",
       "      <td>35</td>\n",
       "      <td>57.0</td>\n",
       "      <td>175.26</td>\n",
       "      <td>40.222222</td>\n",
       "      <td>76.022081</td>\n",
       "    </tr>\n",
       "    <tr>\n",
       "      <th>7499</th>\n",
       "      <td>16.0</td>\n",
       "      <td>91.0</td>\n",
       "      <td>Overweight</td>\n",
       "      <td>M</td>\n",
       "      <td>26</td>\n",
       "      <td>59.0</td>\n",
       "      <td>182.88</td>\n",
       "      <td>40.500000</td>\n",
       "      <td>86.001113</td>\n",
       "    </tr>\n",
       "  </tbody>\n",
       "</table>\n",
       "<p>7500 rows × 9 columns</p>\n",
       "</div>"
      ],
      "text/plain": [
       "      Exercise_Duration    BPM  Weight_Status Gender  Age  Calories_Burned   \n",
       "0                  26.0  107.0  Normal Weight      F   45            166.0  \\\n",
       "1                   7.0   88.0     Overweight      M   50             33.0   \n",
       "2                   7.0   86.0     Overweight      M   29             23.0   \n",
       "3                  17.0   99.0  Normal Weight      F   33             91.0   \n",
       "4                   9.0   88.0  Normal Weight      M   38             32.0   \n",
       "...                 ...    ...            ...    ...  ...              ...   \n",
       "7495               22.0  104.0  Normal Weight      F   75            151.0   \n",
       "7496               20.0  104.0  Normal Weight      F   21            114.0   \n",
       "7497                8.0   90.0     Overweight      M   57             41.0   \n",
       "7498               12.0   97.0     Overweight      M   35             57.0   \n",
       "7499               16.0   91.0     Overweight      M   26             59.0   \n",
       "\n",
       "      Height(cm)  Body_Temperature(C)  Weight(kg)  \n",
       "0         175.26            40.888889   69.989303  \n",
       "1         198.12            39.611111  102.012924  \n",
       "2         190.50            39.611111   99.019214  \n",
       "3         167.64            40.000000   66.995593  \n",
       "4         177.80            39.277778   77.019984  \n",
       "...          ...                  ...         ...  \n",
       "7495      147.32            40.611111   50.983782  \n",
       "7496      172.72            40.722222   66.995593  \n",
       "7497      187.96            39.500000   91.988533  \n",
       "7498      175.26            40.222222   76.022081  \n",
       "7499      182.88            40.500000   86.001113  \n",
       "\n",
       "[7500 rows x 9 columns]"
      ]
     },
     "execution_count": 10,
     "metadata": {},
     "output_type": "execute_result"
    }
   ],
   "source": [
    "train"
   ]
  },
  {
   "attachments": {},
   "cell_type": "markdown",
   "metadata": {},
   "source": [
    "### 데이터 전처리\n",
    "###### 카테고리컬 데이터 인코딩\n",
    "###### PolynomialFeatures 를 사용하여 다항식 특성 추가\n",
    "###### StandardScaler 를 사용하여 수치형 데이터의 스케일을 통일"
   ]
  },
  {
   "cell_type": "code",
   "execution_count": 11,
   "metadata": {},
   "outputs": [],
   "source": [
    "# 'Weight_Status', 'Gender'컬럼 인코딩\n",
    "from sklearn.preprocessing import LabelEncoder"
   ]
  },
  {
   "attachments": {},
   "cell_type": "markdown",
   "metadata": {},
   "source": [
    "###### categorical features 선언"
   ]
  },
  {
   "cell_type": "code",
   "execution_count": 12,
   "metadata": {},
   "outputs": [],
   "source": [
    "categorical_features = ['Weight_Status', 'Gender']\n",
    "numerical_features = ['Exercise_Duration', 'BPM', 'Age', 'Height(cm)', 'Body_Temperature(C)','Weight(kg)']"
   ]
  },
  {
   "attachments": {},
   "cell_type": "markdown",
   "metadata": {},
   "source": [
    "###### Labelencoder"
   ]
  },
  {
   "cell_type": "code",
   "execution_count": 13,
   "metadata": {},
   "outputs": [],
   "source": [
    "def preprocessing(train, test):\n",
    "    for feature in categorical_features:\n",
    "        le = LabelEncoder()\n",
    "        le = le.fit(train[feature])\n",
    "        train[feature] = le.transform(train[feature])\n",
    "        for label in np.unique(test[feature]):\n",
    "            if label not in le.classes_:\n",
    "                le.classes_ = np.append(le.classes_, label)\n",
    "        test[feature] = le.transform(test[feature])"
   ]
  },
  {
   "cell_type": "code",
   "execution_count": 14,
   "metadata": {},
   "outputs": [],
   "source": [
    "preprocessing(train, test)"
   ]
  },
  {
   "cell_type": "code",
   "execution_count": 15,
   "metadata": {},
   "outputs": [],
   "source": [
    "# 타겟 데이터\n",
    "train_target = train['Calories_Burned']"
   ]
  },
  {
   "attachments": {},
   "cell_type": "markdown",
   "metadata": {},
   "source": [
    "###### 학습 데이터에서 타겟 컬럼 제거"
   ]
  },
  {
   "cell_type": "code",
   "execution_count": 16,
   "metadata": {},
   "outputs": [],
   "source": [
    "train1 = train.drop(columns=['Calories_Burned', 'Weight_Status'])\n",
    "test1 = test.drop(columns='Weight_Status')"
   ]
  },
  {
   "attachments": {},
   "cell_type": "markdown",
   "metadata": {},
   "source": [
    "###### PolynomialFeatures와 StandardScaler를 사용한 학습 및 테스트 데이터 변환"
   ]
  },
  {
   "cell_type": "code",
   "execution_count": 24,
   "metadata": {},
   "outputs": [],
   "source": [
    "poly = PolynomialFeatures(degree=3, interaction_only=True)\n",
    "ss = StandardScaler()\n",
    "\n",
    "train_poly = pd.DataFrame(poly.fit_transform(train1))\n",
    "test_poly = pd.DataFrame(poly.transform(test1))\n",
    "# train_poly = ss.fit_transform(train_poly)\n",
    "# test_poly = ss.transform(test_poly)\n"
   ]
  },
  {
   "attachments": {},
   "cell_type": "markdown",
   "metadata": {},
   "source": [
    "### 모델 학습 및 검정"
   ]
  },
  {
   "cell_type": "code",
   "execution_count": 25,
   "metadata": {},
   "outputs": [],
   "source": [
    "# 데이터셋 분리\n",
    "from sklearn.model_selection import train_test_split\n",
    "\n",
    "train_X, val_X, train_Y, val_Y = train_test_split(train_poly, train_target, test_size=0.30, random_state=42, shuffle=True)"
   ]
  },
  {
   "cell_type": "code",
   "execution_count": 26,
   "metadata": {},
   "outputs": [
    {
     "data": {
      "text/html": [
       "<div>\n",
       "<style scoped>\n",
       "    .dataframe tbody tr th:only-of-type {\n",
       "        vertical-align: middle;\n",
       "    }\n",
       "\n",
       "    .dataframe tbody tr th {\n",
       "        vertical-align: top;\n",
       "    }\n",
       "\n",
       "    .dataframe thead th {\n",
       "        text-align: right;\n",
       "    }\n",
       "</style>\n",
       "<table border=\"1\" class=\"dataframe\">\n",
       "  <thead>\n",
       "    <tr style=\"text-align: right;\">\n",
       "      <th></th>\n",
       "      <th>0</th>\n",
       "      <th>1</th>\n",
       "      <th>2</th>\n",
       "      <th>3</th>\n",
       "      <th>4</th>\n",
       "      <th>5</th>\n",
       "      <th>6</th>\n",
       "      <th>7</th>\n",
       "      <th>8</th>\n",
       "      <th>9</th>\n",
       "      <th>...</th>\n",
       "      <th>54</th>\n",
       "      <th>55</th>\n",
       "      <th>56</th>\n",
       "      <th>57</th>\n",
       "      <th>58</th>\n",
       "      <th>59</th>\n",
       "      <th>60</th>\n",
       "      <th>61</th>\n",
       "      <th>62</th>\n",
       "      <th>63</th>\n",
       "    </tr>\n",
       "  </thead>\n",
       "  <tbody>\n",
       "    <tr>\n",
       "      <th>7179</th>\n",
       "      <td>1.0</td>\n",
       "      <td>14.0</td>\n",
       "      <td>99.0</td>\n",
       "      <td>0.0</td>\n",
       "      <td>38.0</td>\n",
       "      <td>152.40</td>\n",
       "      <td>40.388889</td>\n",
       "      <td>59.012367</td>\n",
       "      <td>1386.0</td>\n",
       "      <td>0.0</td>\n",
       "      <td>...</td>\n",
       "      <td>0.00</td>\n",
       "      <td>0.000000</td>\n",
       "      <td>0.000000</td>\n",
       "      <td>0.000000</td>\n",
       "      <td>0.000000</td>\n",
       "      <td>0.000000</td>\n",
       "      <td>233900.133333</td>\n",
       "      <td>341752.421722</td>\n",
       "      <td>90570.870003</td>\n",
       "      <td>363236.857591</td>\n",
       "    </tr>\n",
       "    <tr>\n",
       "      <th>6054</th>\n",
       "      <td>1.0</td>\n",
       "      <td>8.0</td>\n",
       "      <td>86.0</td>\n",
       "      <td>1.0</td>\n",
       "      <td>68.0</td>\n",
       "      <td>172.72</td>\n",
       "      <td>39.722222</td>\n",
       "      <td>82.009500</td>\n",
       "      <td>688.0</td>\n",
       "      <td>8.0</td>\n",
       "      <td>...</td>\n",
       "      <td>11744.96</td>\n",
       "      <td>2701.111111</td>\n",
       "      <td>5576.646034</td>\n",
       "      <td>6860.822222</td>\n",
       "      <td>14164.680926</td>\n",
       "      <td>3257.599603</td>\n",
       "      <td>466535.911111</td>\n",
       "      <td>963198.302946</td>\n",
       "      <td>221516.773006</td>\n",
       "      <td>562652.603436</td>\n",
       "    </tr>\n",
       "    <tr>\n",
       "      <th>7269</th>\n",
       "      <td>1.0</td>\n",
       "      <td>5.0</td>\n",
       "      <td>83.0</td>\n",
       "      <td>0.0</td>\n",
       "      <td>60.0</td>\n",
       "      <td>165.10</td>\n",
       "      <td>39.111111</td>\n",
       "      <td>61.008174</td>\n",
       "      <td>415.0</td>\n",
       "      <td>0.0</td>\n",
       "      <td>...</td>\n",
       "      <td>0.00</td>\n",
       "      <td>0.000000</td>\n",
       "      <td>0.000000</td>\n",
       "      <td>0.000000</td>\n",
       "      <td>0.000000</td>\n",
       "      <td>0.000000</td>\n",
       "      <td>387434.666667</td>\n",
       "      <td>604346.969316</td>\n",
       "      <td>143165.847769</td>\n",
       "      <td>393944.691110</td>\n",
       "    </tr>\n",
       "    <tr>\n",
       "      <th>4866</th>\n",
       "      <td>1.0</td>\n",
       "      <td>12.0</td>\n",
       "      <td>99.0</td>\n",
       "      <td>1.0</td>\n",
       "      <td>31.0</td>\n",
       "      <td>203.20</td>\n",
       "      <td>39.611111</td>\n",
       "      <td>96.978049</td>\n",
       "      <td>1188.0</td>\n",
       "      <td>12.0</td>\n",
       "      <td>...</td>\n",
       "      <td>6299.20</td>\n",
       "      <td>1227.944444</td>\n",
       "      <td>3006.319510</td>\n",
       "      <td>8048.977778</td>\n",
       "      <td>19705.939497</td>\n",
       "      <td>3841.408263</td>\n",
       "      <td>249518.311111</td>\n",
       "      <td>610884.124409</td>\n",
       "      <td>119083.656142</td>\n",
       "      <td>780574.158967</td>\n",
       "    </tr>\n",
       "    <tr>\n",
       "      <th>3593</th>\n",
       "      <td>1.0</td>\n",
       "      <td>10.0</td>\n",
       "      <td>87.0</td>\n",
       "      <td>0.0</td>\n",
       "      <td>35.0</td>\n",
       "      <td>152.40</td>\n",
       "      <td>39.611111</td>\n",
       "      <td>51.981686</td>\n",
       "      <td>870.0</td>\n",
       "      <td>0.0</td>\n",
       "      <td>...</td>\n",
       "      <td>0.00</td>\n",
       "      <td>0.000000</td>\n",
       "      <td>0.000000</td>\n",
       "      <td>0.000000</td>\n",
       "      <td>0.000000</td>\n",
       "      <td>0.000000</td>\n",
       "      <td>211285.666667</td>\n",
       "      <td>277270.311001</td>\n",
       "      <td>72066.831344</td>\n",
       "      <td>313799.574196</td>\n",
       "    </tr>\n",
       "    <tr>\n",
       "      <th>...</th>\n",
       "      <td>...</td>\n",
       "      <td>...</td>\n",
       "      <td>...</td>\n",
       "      <td>...</td>\n",
       "      <td>...</td>\n",
       "      <td>...</td>\n",
       "      <td>...</td>\n",
       "      <td>...</td>\n",
       "      <td>...</td>\n",
       "      <td>...</td>\n",
       "      <td>...</td>\n",
       "      <td>...</td>\n",
       "      <td>...</td>\n",
       "      <td>...</td>\n",
       "      <td>...</td>\n",
       "      <td>...</td>\n",
       "      <td>...</td>\n",
       "      <td>...</td>\n",
       "      <td>...</td>\n",
       "      <td>...</td>\n",
       "      <td>...</td>\n",
       "    </tr>\n",
       "    <tr>\n",
       "      <th>5191</th>\n",
       "      <td>1.0</td>\n",
       "      <td>2.0</td>\n",
       "      <td>82.0</td>\n",
       "      <td>1.0</td>\n",
       "      <td>33.0</td>\n",
       "      <td>200.66</td>\n",
       "      <td>38.000000</td>\n",
       "      <td>96.978049</td>\n",
       "      <td>164.0</td>\n",
       "      <td>2.0</td>\n",
       "      <td>...</td>\n",
       "      <td>6621.78</td>\n",
       "      <td>1254.000000</td>\n",
       "      <td>3200.275607</td>\n",
       "      <td>7625.080000</td>\n",
       "      <td>19459.615253</td>\n",
       "      <td>3685.165851</td>\n",
       "      <td>251627.640000</td>\n",
       "      <td>642167.303360</td>\n",
       "      <td>121610.473077</td>\n",
       "      <td>739465.379627</td>\n",
       "    </tr>\n",
       "    <tr>\n",
       "      <th>5226</th>\n",
       "      <td>1.0</td>\n",
       "      <td>10.0</td>\n",
       "      <td>87.0</td>\n",
       "      <td>0.0</td>\n",
       "      <td>30.0</td>\n",
       "      <td>160.02</td>\n",
       "      <td>39.888889</td>\n",
       "      <td>58.014464</td>\n",
       "      <td>870.0</td>\n",
       "      <td>0.0</td>\n",
       "      <td>...</td>\n",
       "      <td>0.00</td>\n",
       "      <td>0.000000</td>\n",
       "      <td>0.000000</td>\n",
       "      <td>0.000000</td>\n",
       "      <td>0.000000</td>\n",
       "      <td>0.000000</td>\n",
       "      <td>191490.600000</td>\n",
       "      <td>278504.236469</td>\n",
       "      <td>69423.975401</td>\n",
       "      <td>370307.484786</td>\n",
       "    </tr>\n",
       "    <tr>\n",
       "      <th>5390</th>\n",
       "      <td>1.0</td>\n",
       "      <td>11.0</td>\n",
       "      <td>80.0</td>\n",
       "      <td>1.0</td>\n",
       "      <td>37.0</td>\n",
       "      <td>185.42</td>\n",
       "      <td>40.000000</td>\n",
       "      <td>89.992726</td>\n",
       "      <td>880.0</td>\n",
       "      <td>11.0</td>\n",
       "      <td>...</td>\n",
       "      <td>6860.54</td>\n",
       "      <td>1480.000000</td>\n",
       "      <td>3329.730870</td>\n",
       "      <td>7416.800000</td>\n",
       "      <td>16686.451293</td>\n",
       "      <td>3599.709048</td>\n",
       "      <td>274421.600000</td>\n",
       "      <td>617398.697859</td>\n",
       "      <td>133189.234788</td>\n",
       "      <td>667458.051739</td>\n",
       "    </tr>\n",
       "    <tr>\n",
       "      <th>860</th>\n",
       "      <td>1.0</td>\n",
       "      <td>11.0</td>\n",
       "      <td>84.0</td>\n",
       "      <td>0.0</td>\n",
       "      <td>53.0</td>\n",
       "      <td>160.02</td>\n",
       "      <td>40.222222</td>\n",
       "      <td>63.003980</td>\n",
       "      <td>924.0</td>\n",
       "      <td>0.0</td>\n",
       "      <td>...</td>\n",
       "      <td>0.00</td>\n",
       "      <td>0.000000</td>\n",
       "      <td>0.000000</td>\n",
       "      <td>0.000000</td>\n",
       "      <td>0.000000</td>\n",
       "      <td>0.000000</td>\n",
       "      <td>341127.080000</td>\n",
       "      <td>534340.536256</td>\n",
       "      <td>134310.484887</td>\n",
       "      <td>405516.297955</td>\n",
       "    </tr>\n",
       "    <tr>\n",
       "      <th>7270</th>\n",
       "      <td>1.0</td>\n",
       "      <td>2.0</td>\n",
       "      <td>84.0</td>\n",
       "      <td>0.0</td>\n",
       "      <td>24.0</td>\n",
       "      <td>162.56</td>\n",
       "      <td>38.222222</td>\n",
       "      <td>61.008174</td>\n",
       "      <td>168.0</td>\n",
       "      <td>0.0</td>\n",
       "      <td>...</td>\n",
       "      <td>0.00</td>\n",
       "      <td>0.000000</td>\n",
       "      <td>0.000000</td>\n",
       "      <td>0.000000</td>\n",
       "      <td>0.000000</td>\n",
       "      <td>0.000000</td>\n",
       "      <td>149121.706667</td>\n",
       "      <td>238019.729454</td>\n",
       "      <td>55964.831400</td>\n",
       "      <td>379068.458019</td>\n",
       "    </tr>\n",
       "  </tbody>\n",
       "</table>\n",
       "<p>5250 rows × 64 columns</p>\n",
       "</div>"
      ],
      "text/plain": [
       "       0     1     2    3     4       5          6          7       8     9    \n",
       "7179  1.0  14.0  99.0  0.0  38.0  152.40  40.388889  59.012367  1386.0   0.0  \\\n",
       "6054  1.0   8.0  86.0  1.0  68.0  172.72  39.722222  82.009500   688.0   8.0   \n",
       "7269  1.0   5.0  83.0  0.0  60.0  165.10  39.111111  61.008174   415.0   0.0   \n",
       "4866  1.0  12.0  99.0  1.0  31.0  203.20  39.611111  96.978049  1188.0  12.0   \n",
       "3593  1.0  10.0  87.0  0.0  35.0  152.40  39.611111  51.981686   870.0   0.0   \n",
       "...   ...   ...   ...  ...   ...     ...        ...        ...     ...   ...   \n",
       "5191  1.0   2.0  82.0  1.0  33.0  200.66  38.000000  96.978049   164.0   2.0   \n",
       "5226  1.0  10.0  87.0  0.0  30.0  160.02  39.888889  58.014464   870.0   0.0   \n",
       "5390  1.0  11.0  80.0  1.0  37.0  185.42  40.000000  89.992726   880.0  11.0   \n",
       "860   1.0  11.0  84.0  0.0  53.0  160.02  40.222222  63.003980   924.0   0.0   \n",
       "7270  1.0   2.0  84.0  0.0  24.0  162.56  38.222222  61.008174   168.0   0.0   \n",
       "\n",
       "      ...        54           55           56           57            58   \n",
       "7179  ...      0.00     0.000000     0.000000     0.000000      0.000000  \\\n",
       "6054  ...  11744.96  2701.111111  5576.646034  6860.822222  14164.680926   \n",
       "7269  ...      0.00     0.000000     0.000000     0.000000      0.000000   \n",
       "4866  ...   6299.20  1227.944444  3006.319510  8048.977778  19705.939497   \n",
       "3593  ...      0.00     0.000000     0.000000     0.000000      0.000000   \n",
       "...   ...       ...          ...          ...          ...           ...   \n",
       "5191  ...   6621.78  1254.000000  3200.275607  7625.080000  19459.615253   \n",
       "5226  ...      0.00     0.000000     0.000000     0.000000      0.000000   \n",
       "5390  ...   6860.54  1480.000000  3329.730870  7416.800000  16686.451293   \n",
       "860   ...      0.00     0.000000     0.000000     0.000000      0.000000   \n",
       "7270  ...      0.00     0.000000     0.000000     0.000000      0.000000   \n",
       "\n",
       "               59             60             61             62             63  \n",
       "7179     0.000000  233900.133333  341752.421722   90570.870003  363236.857591  \n",
       "6054  3257.599603  466535.911111  963198.302946  221516.773006  562652.603436  \n",
       "7269     0.000000  387434.666667  604346.969316  143165.847769  393944.691110  \n",
       "4866  3841.408263  249518.311111  610884.124409  119083.656142  780574.158967  \n",
       "3593     0.000000  211285.666667  277270.311001   72066.831344  313799.574196  \n",
       "...           ...            ...            ...            ...            ...  \n",
       "5191  3685.165851  251627.640000  642167.303360  121610.473077  739465.379627  \n",
       "5226     0.000000  191490.600000  278504.236469   69423.975401  370307.484786  \n",
       "5390  3599.709048  274421.600000  617398.697859  133189.234788  667458.051739  \n",
       "860      0.000000  341127.080000  534340.536256  134310.484887  405516.297955  \n",
       "7270     0.000000  149121.706667  238019.729454   55964.831400  379068.458019  \n",
       "\n",
       "[5250 rows x 64 columns]"
      ]
     },
     "execution_count": 26,
     "metadata": {},
     "output_type": "execute_result"
    }
   ],
   "source": [
    "train_X"
   ]
  },
  {
   "cell_type": "code",
   "execution_count": 27,
   "metadata": {},
   "outputs": [],
   "source": [
    "# 모델 선언 및 학습\n",
    "from sklearn.linear_model import LinearRegression\n",
    "lr = LinearRegression()"
   ]
  },
  {
   "cell_type": "code",
   "execution_count": 28,
   "metadata": {},
   "outputs": [],
   "source": [
    "from sklearn.model_selection import cross_validate\n",
    "cv_results = cross_validate(lr, train_X, train_Y, cv=5, scoring=('r2', 'neg_mean_squared_error'), return_estimator=True)\n",
    "best_estimator = cv_results['estimator'][cv_results['test_neg_mean_squared_error'].argmax()]"
   ]
  },
  {
   "attachments": {},
   "cell_type": "markdown",
   "metadata": {},
   "source": [
    "###### 검증세트를 이용한 예측 및 rmse 확인"
   ]
  },
  {
   "cell_type": "code",
   "execution_count": 29,
   "metadata": {},
   "outputs": [
    {
     "name": "stdout",
     "output_type": "stream",
     "text": [
      "RMSE는 0.2888885382681737입니다.\n"
     ]
    }
   ],
   "source": [
    "pred = best_estimator.predict(val_X)\n",
    "rmse = mean_squared_error(val_Y, pred, squared=False)\n",
    "print(f'RMSE는 {rmse}입니다.')"
   ]
  },
  {
   "attachments": {},
   "cell_type": "markdown",
   "metadata": {},
   "source": [
    "###### 테스트 세트를 이용한 데이터 예측 및 예측 값 저장"
   ]
  },
  {
   "cell_type": "code",
   "execution_count": 37,
   "metadata": {},
   "outputs": [],
   "source": [
    "# y_pred_test = best_model.predict(test_poly)"
   ]
  },
  {
   "cell_type": "code",
   "execution_count": 38,
   "metadata": {},
   "outputs": [],
   "source": [
    "# y_pred_test"
   ]
  },
  {
   "cell_type": "code",
   "execution_count": 39,
   "metadata": {},
   "outputs": [],
   "source": [
    "# sample_submission = pd.read_csv('C:/Users/Ted/Desktop/research/projects/calorie_prediction/dataset/sample_submission.csv')"
   ]
  },
  {
   "cell_type": "code",
   "execution_count": 40,
   "metadata": {},
   "outputs": [],
   "source": [
    "# sample_submission['Calories_Burned'] = y_pred_test\n",
    "# sample_submission.to_csv('submission_tf_gpu_gridcv.csv', index=False)"
   ]
  }
 ],
 "metadata": {
  "kernelspec": {
   "display_name": "calorie",
   "language": "python",
   "name": "python3"
  },
  "language_info": {
   "codemirror_mode": {
    "name": "ipython",
    "version": 3
   },
   "file_extension": ".py",
   "mimetype": "text/x-python",
   "name": "python",
   "nbconvert_exporter": "python",
   "pygments_lexer": "ipython3",
   "version": "3.9.16"
  },
  "orig_nbformat": 4
 },
 "nbformat": 4,
 "nbformat_minor": 2
}
